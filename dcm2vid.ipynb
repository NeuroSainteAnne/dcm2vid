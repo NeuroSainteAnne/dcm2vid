{
 "cells": [
  {
   "cell_type": "code",
   "execution_count": 111,
   "id": "d1232350-cd92-4d20-a260-ee72723eb35e",
   "metadata": {
    "tags": []
   },
   "outputs": [],
   "source": [
    "import pydicom\n",
    "import glob\n",
    "import os\n",
    "import natsort\n",
    "import png\n",
    "import numpy as np\n",
    "import cv2\n",
    "from cv2 import dnn_superres\n",
    "dossier_input = \"input\"\n",
    "dossier_output_png = \"output_png\"\n",
    "dossier_output_png_up = \"output_png_up\"\n",
    "dossier_output_video = \"output_video\"\n",
    "dossier_output_video_up = \"output_video_up\"\n",
    "skip_frames = 8"
   ]
  },
  {
   "cell_type": "code",
   "execution_count": null,
   "id": "636c2896-624f-4aba-8722-848f52ea2b1c",
   "metadata": {
    "tags": []
   },
   "outputs": [],
   "source": [
    "for base, folders, files  in os.walk(dossier_input):\n",
    "    overall_max = 0\n",
    "    i = 0\n",
    "    for file in natsort.natsorted(files):\n",
    "        try:\n",
    "            ds = pydicom.dcmread(os.path.join(base,file))\n",
    "            data_type = type(ds.PixelData)\n",
    "            if ds.LargestImagePixelValue > overall_max and i > skip_frames:\n",
    "                overall_max = ds.LargestImagePixelValue\n",
    "            if i == 0:\n",
    "                print(ds.Rows, ds.Columns, ds.PixelSpacing)\n",
    "            i += 1\n",
    "        except:\n",
    "            continue\n",
    "    for file in natsort.natsorted(files):\n",
    "        try:\n",
    "            ds = pydicom.dcmread(os.path.join(base,file))\n",
    "            data_type = type(ds.PixelData)\n",
    "            shape = ds.pixel_array.shape\n",
    "            image_2d = ds.pixel_array.astype(float)\n",
    "            image_2d_scaled = (image_2d / overall_max) * 255.0\n",
    "            out_target = base.replace(dossier_input, dossier_output_png)\n",
    "            if not os.path.exists(out_target):\n",
    "                os.makedirs(out_target)\n",
    "            \n",
    "            with open(os.path.join(out_target,\"img\"+f'{ds.TemporalPositionIndex:05}'+'.png') , 'wb') as png_file:\n",
    "                w = png.Writer(shape[1], shape[0], greyscale=True)\n",
    "                w.write(png_file, image_2d_scaled.astype(np.uint8))\n",
    "        except:\n",
    "            continue"
   ]
  },
  {
   "cell_type": "code",
   "execution_count": 119,
   "id": "25ded505-1aec-42e1-bdac-0b271fd82a92",
   "metadata": {
    "tags": []
   },
   "outputs": [],
   "source": [
    "for base, folders, files  in os.walk(dossier_output_png):\n",
    "    files = natsort.natsorted(files)\n",
    "    i = 0\n",
    "    out_target = base.replace(dossier_output_png, dossier_output_video)\n",
    "    if len(files) > 1:\n",
    "        if not os.path.exists(os.path.dirname(out_target)):\n",
    "            os.makedirs(os.path.dirname(out_target))\n",
    "        frame = cv2.imread(os.path.join(base, files[0]))\n",
    "        height, width, layers = frame.shape\n",
    "        video = cv2.VideoWriter(out_target+\".avi\", 0, 10, (width,height))\n",
    "        for image in files:\n",
    "            video.write(cv2.imread(os.path.join(base, image)))\n",
    "        cv2.destroyAllWindows()\n",
    "        video.release()\n",
    "        "
   ]
  },
  {
   "cell_type": "code",
   "execution_count": 122,
   "id": "eec750e7-d18f-441f-bdd7-b7ce6d5a8be3",
   "metadata": {
    "tags": []
   },
   "outputs": [],
   "source": [
    "# Create an SR object\n",
    "sr = dnn_superres.DnnSuperResImpl_create()\n",
    "# Read the desired model\n",
    "path = \"FSRCNN_x4.pb\"\n",
    "sr.readModel(path)\n",
    "# Set the desired model and scale to get correct pre- and post-processing\n",
    "sr.setModel(\"fsrcnn\", 4)\n",
    "\n",
    "for base, folders, files  in os.walk(dossier_output_png):\n",
    "    i = 0\n",
    "    for file in natsort.natsorted(files):\n",
    "        out_target = base.replace(dossier_output_png, dossier_output_png_up)\n",
    "        if not os.path.exists(out_target):\n",
    "            os.makedirs(out_target)\n",
    "            # Read image\n",
    "        image = cv2.imread(os.path.join(base,file))\n",
    "        # Upscale the image\n",
    "        result = sr.upsample(image)\n",
    "        # Save the image\n",
    "        cv2.imwrite(os.path.join(out_target,file), result)"
   ]
  },
  {
   "cell_type": "code",
   "execution_count": 109,
   "id": "3f272f2c-cde8-48f7-ac9e-c3f3c06f404d",
   "metadata": {
    "tags": []
   },
   "outputs": [],
   "source": [
    "for base, folders, files  in os.walk(dossier_output_png_up):\n",
    "    files = natsort.natsorted(files)\n",
    "    i = 0\n",
    "    out_target = base.replace(dossier_output_png_up, dossier_output_video_up)\n",
    "    if not os.path.exists(os.path.dirname(out_target)):\n",
    "        os.makedirs(os.path.dirname(out_target))\n",
    "    if len(files) > 1:\n",
    "        frame = cv2.imread(os.path.join(base, files[0]))\n",
    "        height, width, layers = frame.shape\n",
    "        video = cv2.VideoWriter(out_target+\".avi\", 0, 10, (width,height))\n",
    "        for image in files:\n",
    "            video.write(cv2.imread(os.path.join(base, image)))\n",
    "        cv2.destroyAllWindows()\n",
    "        video.release()"
   ]
  },
  {
   "cell_type": "code",
   "execution_count": null,
   "id": "b398eea1-f97f-4a9c-ad61-faa115994aa1",
   "metadata": {},
   "outputs": [],
   "source": []
  }
 ],
 "metadata": {
  "kernelspec": {
   "display_name": "Python 3 (ipykernel)",
   "language": "python",
   "name": "python3"
  },
  "language_info": {
   "codemirror_mode": {
    "name": "ipython",
    "version": 3
   },
   "file_extension": ".py",
   "mimetype": "text/x-python",
   "name": "python",
   "nbconvert_exporter": "python",
   "pygments_lexer": "ipython3",
   "version": "3.10.12"
  }
 },
 "nbformat": 4,
 "nbformat_minor": 5
}
